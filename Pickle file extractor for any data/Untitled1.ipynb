{
 "cells": [
  {
   "cell_type": "markdown",
   "id": "f6ce7900",
   "metadata": {
    "id": "6736cb7f"
   },
   "source": [
    "# DATA EXPLORATION"
   ]
  },
  {
   "cell_type": "code",
   "execution_count": 1,
   "id": "37058bb1",
   "metadata": {
    "id": "d52ea71a"
   },
   "outputs": [],
   "source": [
    "#libraries required for data exploration\n",
    "import numpy as np\n",
    "import pandas as pd\n",
    "from time import time"
   ]
  },
  {
   "cell_type": "code",
   "execution_count": 2,
   "id": "49d63213",
   "metadata": {
    "id": "d15e5e4e",
    "outputId": "124d43e0-a6f7-4474-a9e9-b026ba80b819"
   },
   "outputs": [
    {
     "data": {
      "text/html": [
       "<div>\n",
       "<style scoped>\n",
       "    .dataframe tbody tr th:only-of-type {\n",
       "        vertical-align: middle;\n",
       "    }\n",
       "\n",
       "    .dataframe tbody tr th {\n",
       "        vertical-align: top;\n",
       "    }\n",
       "\n",
       "    .dataframe thead th {\n",
       "        text-align: right;\n",
       "    }\n",
       "</style>\n",
       "<table border=\"1\" class=\"dataframe\">\n",
       "  <thead>\n",
       "    <tr style=\"text-align: right;\">\n",
       "      <th></th>\n",
       "      <th>age</th>\n",
       "      <th>sex</th>\n",
       "      <th>cp</th>\n",
       "      <th>trestbps</th>\n",
       "      <th>chol</th>\n",
       "      <th>fbs</th>\n",
       "      <th>restecg</th>\n",
       "      <th>thalach</th>\n",
       "      <th>exang</th>\n",
       "      <th>num</th>\n",
       "    </tr>\n",
       "  </thead>\n",
       "  <tbody>\n",
       "    <tr>\n",
       "      <th>0</th>\n",
       "      <td>67</td>\n",
       "      <td>1</td>\n",
       "      <td>4</td>\n",
       "      <td>160.0</td>\n",
       "      <td>286.0</td>\n",
       "      <td>0.0</td>\n",
       "      <td>2.0</td>\n",
       "      <td>108.0</td>\n",
       "      <td>1.0</td>\n",
       "      <td>2</td>\n",
       "    </tr>\n",
       "    <tr>\n",
       "      <th>1</th>\n",
       "      <td>67</td>\n",
       "      <td>1</td>\n",
       "      <td>4</td>\n",
       "      <td>120.0</td>\n",
       "      <td>229.0</td>\n",
       "      <td>0.0</td>\n",
       "      <td>2.0</td>\n",
       "      <td>129.0</td>\n",
       "      <td>1.0</td>\n",
       "      <td>1</td>\n",
       "    </tr>\n",
       "    <tr>\n",
       "      <th>2</th>\n",
       "      <td>37</td>\n",
       "      <td>1</td>\n",
       "      <td>3</td>\n",
       "      <td>130.0</td>\n",
       "      <td>250.0</td>\n",
       "      <td>0.0</td>\n",
       "      <td>0.0</td>\n",
       "      <td>187.0</td>\n",
       "      <td>0.0</td>\n",
       "      <td>0</td>\n",
       "    </tr>\n",
       "    <tr>\n",
       "      <th>3</th>\n",
       "      <td>41</td>\n",
       "      <td>0</td>\n",
       "      <td>2</td>\n",
       "      <td>130.0</td>\n",
       "      <td>204.0</td>\n",
       "      <td>0.0</td>\n",
       "      <td>2.0</td>\n",
       "      <td>172.0</td>\n",
       "      <td>0.0</td>\n",
       "      <td>0</td>\n",
       "    </tr>\n",
       "    <tr>\n",
       "      <th>4</th>\n",
       "      <td>56</td>\n",
       "      <td>1</td>\n",
       "      <td>2</td>\n",
       "      <td>120.0</td>\n",
       "      <td>236.0</td>\n",
       "      <td>0.0</td>\n",
       "      <td>0.0</td>\n",
       "      <td>178.0</td>\n",
       "      <td>0.0</td>\n",
       "      <td>0</td>\n",
       "    </tr>\n",
       "  </tbody>\n",
       "</table>\n",
       "</div>"
      ],
      "text/plain": [
       "   age  sex  cp  trestbps   chol  fbs  restecg  thalach  exang  num\n",
       "0   67    1   4     160.0  286.0  0.0      2.0    108.0    1.0    2\n",
       "1   67    1   4     120.0  229.0  0.0      2.0    129.0    1.0    1\n",
       "2   37    1   3     130.0  250.0  0.0      0.0    187.0    0.0    0\n",
       "3   41    0   2     130.0  204.0  0.0      2.0    172.0    0.0    0\n",
       "4   56    1   2     120.0  236.0  0.0      0.0    178.0    0.0    0"
      ]
     },
     "execution_count": 2,
     "metadata": {},
     "output_type": "execute_result"
    }
   ],
   "source": [
    "#reading data through pandas \n",
    "data = pd.read_csv(\"combined_dataset.csv\")\n",
    "orgdata=data.copy()\n",
    "data.head()\n"
   ]
  },
  {
   "cell_type": "code",
   "execution_count": 3,
   "id": "5858b266",
   "metadata": {
    "id": "43479cd8",
    "outputId": "11b60eaf-a289-48be-ad46-adab40f4627e"
   },
   "outputs": [
    {
     "data": {
      "text/html": [
       "<div>\n",
       "<style scoped>\n",
       "    .dataframe tbody tr th:only-of-type {\n",
       "        vertical-align: middle;\n",
       "    }\n",
       "\n",
       "    .dataframe tbody tr th {\n",
       "        vertical-align: top;\n",
       "    }\n",
       "\n",
       "    .dataframe thead th {\n",
       "        text-align: right;\n",
       "    }\n",
       "</style>\n",
       "<table border=\"1\" class=\"dataframe\">\n",
       "  <thead>\n",
       "    <tr style=\"text-align: right;\">\n",
       "      <th></th>\n",
       "      <th>age</th>\n",
       "      <th>sex</th>\n",
       "      <th>cp</th>\n",
       "      <th>trestbps</th>\n",
       "      <th>chol</th>\n",
       "      <th>fbs</th>\n",
       "      <th>restecg</th>\n",
       "      <th>thalach</th>\n",
       "      <th>exang</th>\n",
       "      <th>num</th>\n",
       "    </tr>\n",
       "  </thead>\n",
       "  <tbody>\n",
       "    <tr>\n",
       "      <th>911</th>\n",
       "      <td>54</td>\n",
       "      <td>0</td>\n",
       "      <td>4</td>\n",
       "      <td>127.0</td>\n",
       "      <td>333.0</td>\n",
       "      <td>1.0</td>\n",
       "      <td>1.0</td>\n",
       "      <td>154.0</td>\n",
       "      <td>0.0</td>\n",
       "      <td>1</td>\n",
       "    </tr>\n",
       "    <tr>\n",
       "      <th>912</th>\n",
       "      <td>62</td>\n",
       "      <td>1</td>\n",
       "      <td>1</td>\n",
       "      <td>130.0</td>\n",
       "      <td>139.0</td>\n",
       "      <td>0.0</td>\n",
       "      <td>1.0</td>\n",
       "      <td>140.0</td>\n",
       "      <td>0.0</td>\n",
       "      <td>0</td>\n",
       "    </tr>\n",
       "    <tr>\n",
       "      <th>913</th>\n",
       "      <td>55</td>\n",
       "      <td>1</td>\n",
       "      <td>4</td>\n",
       "      <td>122.0</td>\n",
       "      <td>223.0</td>\n",
       "      <td>1.0</td>\n",
       "      <td>1.0</td>\n",
       "      <td>100.0</td>\n",
       "      <td>0.0</td>\n",
       "      <td>2</td>\n",
       "    </tr>\n",
       "    <tr>\n",
       "      <th>914</th>\n",
       "      <td>58</td>\n",
       "      <td>1</td>\n",
       "      <td>4</td>\n",
       "      <td>130.0</td>\n",
       "      <td>385.0</td>\n",
       "      <td>1.0</td>\n",
       "      <td>2.0</td>\n",
       "      <td>140.0</td>\n",
       "      <td>0.0</td>\n",
       "      <td>0</td>\n",
       "    </tr>\n",
       "    <tr>\n",
       "      <th>915</th>\n",
       "      <td>62</td>\n",
       "      <td>1</td>\n",
       "      <td>2</td>\n",
       "      <td>120.0</td>\n",
       "      <td>254.0</td>\n",
       "      <td>0.0</td>\n",
       "      <td>2.0</td>\n",
       "      <td>93.0</td>\n",
       "      <td>1.0</td>\n",
       "      <td>1</td>\n",
       "    </tr>\n",
       "  </tbody>\n",
       "</table>\n",
       "</div>"
      ],
      "text/plain": [
       "     age  sex  cp  trestbps   chol  fbs  restecg  thalach  exang  num\n",
       "911   54    0   4     127.0  333.0  1.0      1.0    154.0    0.0    1\n",
       "912   62    1   1     130.0  139.0  0.0      1.0    140.0    0.0    0\n",
       "913   55    1   4     122.0  223.0  1.0      1.0    100.0    0.0    2\n",
       "914   58    1   4     130.0  385.0  1.0      2.0    140.0    0.0    0\n",
       "915   62    1   2     120.0  254.0  0.0      2.0     93.0    1.0    1"
      ]
     },
     "execution_count": 3,
     "metadata": {},
     "output_type": "execute_result"
    }
   ],
   "source": [
    "data.tail()"
   ]
  },
  {
   "cell_type": "code",
   "execution_count": 4,
   "id": "b309092d",
   "metadata": {
    "id": "ddd1ff80",
    "outputId": "0fc353b4-6345-43fa-e431-ea5a5295b353"
   },
   "outputs": [
    {
     "data": {
      "text/plain": [
       "['age',\n",
       " 'sex',\n",
       " 'cp',\n",
       " 'trestbps',\n",
       " 'chol',\n",
       " 'fbs',\n",
       " 'restecg',\n",
       " 'thalach',\n",
       " 'exang',\n",
       " 'num']"
      ]
     },
     "execution_count": 4,
     "metadata": {},
     "output_type": "execute_result"
    }
   ],
   "source": [
    "#checking all column names\n",
    "cols=data.columns.tolist()\n",
    "cols"
   ]
  },
  {
   "cell_type": "code",
   "execution_count": 5,
   "id": "4a85f7f2",
   "metadata": {
    "id": "9402f4b9",
    "outputId": "81077144-d3f1-4711-b54f-25bf6241c627"
   },
   "outputs": [
    {
     "name": "stdout",
     "output_type": "stream",
     "text": [
      "<class 'pandas.core.frame.DataFrame'>\n",
      "RangeIndex: 916 entries, 0 to 915\n",
      "Data columns (total 10 columns):\n",
      " #   Column    Non-Null Count  Dtype  \n",
      "---  ------    --------------  -----  \n",
      " 0   age       916 non-null    int64  \n",
      " 1   sex       916 non-null    int64  \n",
      " 2   cp        916 non-null    int64  \n",
      " 3   trestbps  916 non-null    float64\n",
      " 4   chol      916 non-null    float64\n",
      " 5   fbs       916 non-null    float64\n",
      " 6   restecg   916 non-null    float64\n",
      " 7   thalach   916 non-null    float64\n",
      " 8   exang     916 non-null    float64\n",
      " 9   num       916 non-null    int64  \n",
      "dtypes: float64(6), int64(4)\n",
      "memory usage: 71.7 KB\n"
     ]
    }
   ],
   "source": [
    "#information regarding data in the table\n",
    "data.info()"
   ]
  },
  {
   "cell_type": "code",
   "execution_count": 6,
   "id": "2c05100d",
   "metadata": {
    "id": "1417f634",
    "outputId": "955bdd5a-bdf3-47c1-a875-5b3fab09cf44"
   },
   "outputs": [
    {
     "data": {
      "text/plain": [
       "age         0\n",
       "sex         0\n",
       "cp          0\n",
       "trestbps    0\n",
       "chol        0\n",
       "fbs         0\n",
       "restecg     0\n",
       "thalach     0\n",
       "exang       0\n",
       "num         0\n",
       "dtype: int64"
      ]
     },
     "execution_count": 6,
     "metadata": {},
     "output_type": "execute_result"
    }
   ],
   "source": [
    "#To check number of null values for each column\n",
    "data.isnull().sum()"
   ]
  },
  {
   "cell_type": "markdown",
   "id": "ab80b872",
   "metadata": {
    "id": "e8f37cad"
   },
   "source": [
    "# DATA PREPROCESSING"
   ]
  },
  {
   "cell_type": "markdown",
   "id": "620ce9c7",
   "metadata": {
    "id": "28861d24"
   },
   "source": [
    "# 1.Conversion of categeorical variables to numerical"
   ]
  },
  {
   "cell_type": "code",
   "execution_count": 7,
   "id": "0c066b5e",
   "metadata": {
    "id": "5158930a"
   },
   "outputs": [],
   "source": [
    "#class with function to encode categeorical variable containing columns with Null values\n",
    "class label_encoder_contain_missing_values :\n",
    "\n",
    "        def __init__ (self) :    \n",
    "            pass  \n",
    "\n",
    "        def categorical_to_numeric (self,dataset):\n",
    "            import numpy as np\n",
    "            import pandas as pd\n",
    "            \n",
    "            self.dataset = dataset\n",
    "            self.summary = None\n",
    "            self.table_encoder= {}\n",
    "\n",
    "            for index in self.dataset.columns :\n",
    "                if self.dataset[index].dtypes == 'object' :               \n",
    "                   column_data_frame = pd.Series(self.dataset[index],name='column').to_frame()\n",
    "                   unique_values = pd.Series(self.dataset[index].unique())\n",
    "                   i = 0\n",
    "                   label_encoder = pd.DataFrame({'value_name':[],'Encode':[]})\n",
    "                   while i <= len(unique_values)-1:\n",
    "                         if unique_values.isnull()[i] == True : \n",
    "                           label_encoder = label_encoder.append({'value_name': unique_values[i],'Encode':np.nan}, ignore_index=True) #np.nan = -1\n",
    "                         else:\n",
    "                           label_encoder = label_encoder.append({'value_name': unique_values[i],'Encode':i}, ignore_index=True)\n",
    "                         i+=1 \n",
    "\n",
    "                   output = pd.merge(left=column_data_frame,right = label_encoder, how='left',left_on='column',right_on='value_name')\n",
    "                   self.summary = output[['column','Encode']].drop_duplicates().reset_index(drop=True)\n",
    "                   self.dataset[index] = output.Encode \n",
    "                   self.table_encoder.update({index:self.summary})\n",
    "                    \n",
    "                else :\n",
    "                     pass\n",
    "                     \n",
    "            # ---- Show Encode Table ----- #               \n",
    "            print('''\\nLabel Encoding completed in Successfully.\\n\n",
    "                       Next steps: \\n\n",
    "                       1.  To view table_encoder, Execute the follow: \\n\n",
    "                           for index in table_encoder :\n",
    "                           print(f'\\\\n{index} \\\\n',table_encoder[index])\n",
    "                           \n",
    "                       2. For inverse, execute the follow : \\n\n",
    "                          df = label_encoder_contain_missing_values().\n",
    "                               inverse_numeric_to_categorical(table_encoder, df) ''') \n",
    "                        \n",
    "            return self.table_encoder  ,self.dataset \n",
    "        \n",
    "\n",
    "        def inverse_numeric_to_categorical (self,table_encoder, df):\n",
    "            dataset = df.copy()\n",
    "            for column in table_encoder.keys():\n",
    "                df_column = df[column].to_frame()\n",
    "                output = pd.merge(left=df_column,right = table_encoder[column], how='left',left_on= column,right_on='Encode')#.rename(columns={'column_x' :'encode','column_y':'category'})\n",
    "                df[column]= output.column\n",
    "            print('\\nInverse Label Encoding, from categorical to numerical completed in Successfully.\\n')\n",
    "            return df"
   ]
  },
  {
   "cell_type": "code",
   "execution_count": 8,
   "id": "9a9f680f",
   "metadata": {
    "id": "5e362102",
    "outputId": "0b3c4a91-6a6d-48cc-fe7a-8e3ff1dfae20"
   },
   "outputs": [
    {
     "name": "stdout",
     "output_type": "stream",
     "text": [
      "Successfully used Label Encoder\n"
     ]
    }
   ],
   "source": [
    "#using if condition to check if there are null values in the data\n",
    "if(data.isnull().sum().tolist()!=([0]*len(cols))):\n",
    "    #encoding our data with categeorical columns with null values using our bespoke class\n",
    "    table_encoder,data  = label_encoder_contain_missing_values().categorical_to_numeric(data)\n",
    "else:\n",
    "    #To  convert categeorical data to numerical data when there are no null values in categeorical data using inbuilt method\n",
    "    from sklearn import preprocessing\n",
    "    label_encoder = preprocessing.LabelEncoder()\n",
    "    for i in cols:\n",
    "        if (data[i].dtype in [np.str_,np.byte,np.ubyte]):\n",
    "            data[i]=label_encoder.fit_transform(data[i])\n",
    "    print(\"Successfully used Label Encoder\")        \n",
    "    \n",
    "    \n",
    "    \n"
   ]
  },
  {
   "cell_type": "code",
   "execution_count": 9,
   "id": "b15a804f",
   "metadata": {
    "id": "03b5a29b",
    "outputId": "96d71d55-e276-400c-9c0e-b88815fe5b45"
   },
   "outputs": [
    {
     "data": {
      "text/html": [
       "<div>\n",
       "<style scoped>\n",
       "    .dataframe tbody tr th:only-of-type {\n",
       "        vertical-align: middle;\n",
       "    }\n",
       "\n",
       "    .dataframe tbody tr th {\n",
       "        vertical-align: top;\n",
       "    }\n",
       "\n",
       "    .dataframe thead th {\n",
       "        text-align: right;\n",
       "    }\n",
       "</style>\n",
       "<table border=\"1\" class=\"dataframe\">\n",
       "  <thead>\n",
       "    <tr style=\"text-align: right;\">\n",
       "      <th></th>\n",
       "      <th>age</th>\n",
       "      <th>sex</th>\n",
       "      <th>cp</th>\n",
       "      <th>trestbps</th>\n",
       "      <th>chol</th>\n",
       "      <th>fbs</th>\n",
       "      <th>restecg</th>\n",
       "      <th>thalach</th>\n",
       "      <th>exang</th>\n",
       "      <th>num</th>\n",
       "    </tr>\n",
       "  </thead>\n",
       "  <tbody>\n",
       "    <tr>\n",
       "      <th>0</th>\n",
       "      <td>67</td>\n",
       "      <td>1</td>\n",
       "      <td>4</td>\n",
       "      <td>160.0</td>\n",
       "      <td>286.0</td>\n",
       "      <td>0.0</td>\n",
       "      <td>2.0</td>\n",
       "      <td>108.0</td>\n",
       "      <td>1.0</td>\n",
       "      <td>2</td>\n",
       "    </tr>\n",
       "    <tr>\n",
       "      <th>1</th>\n",
       "      <td>67</td>\n",
       "      <td>1</td>\n",
       "      <td>4</td>\n",
       "      <td>120.0</td>\n",
       "      <td>229.0</td>\n",
       "      <td>0.0</td>\n",
       "      <td>2.0</td>\n",
       "      <td>129.0</td>\n",
       "      <td>1.0</td>\n",
       "      <td>1</td>\n",
       "    </tr>\n",
       "    <tr>\n",
       "      <th>2</th>\n",
       "      <td>37</td>\n",
       "      <td>1</td>\n",
       "      <td>3</td>\n",
       "      <td>130.0</td>\n",
       "      <td>250.0</td>\n",
       "      <td>0.0</td>\n",
       "      <td>0.0</td>\n",
       "      <td>187.0</td>\n",
       "      <td>0.0</td>\n",
       "      <td>0</td>\n",
       "    </tr>\n",
       "    <tr>\n",
       "      <th>3</th>\n",
       "      <td>41</td>\n",
       "      <td>0</td>\n",
       "      <td>2</td>\n",
       "      <td>130.0</td>\n",
       "      <td>204.0</td>\n",
       "      <td>0.0</td>\n",
       "      <td>2.0</td>\n",
       "      <td>172.0</td>\n",
       "      <td>0.0</td>\n",
       "      <td>0</td>\n",
       "    </tr>\n",
       "    <tr>\n",
       "      <th>4</th>\n",
       "      <td>56</td>\n",
       "      <td>1</td>\n",
       "      <td>2</td>\n",
       "      <td>120.0</td>\n",
       "      <td>236.0</td>\n",
       "      <td>0.0</td>\n",
       "      <td>0.0</td>\n",
       "      <td>178.0</td>\n",
       "      <td>0.0</td>\n",
       "      <td>0</td>\n",
       "    </tr>\n",
       "    <tr>\n",
       "      <th>...</th>\n",
       "      <td>...</td>\n",
       "      <td>...</td>\n",
       "      <td>...</td>\n",
       "      <td>...</td>\n",
       "      <td>...</td>\n",
       "      <td>...</td>\n",
       "      <td>...</td>\n",
       "      <td>...</td>\n",
       "      <td>...</td>\n",
       "      <td>...</td>\n",
       "    </tr>\n",
       "    <tr>\n",
       "      <th>911</th>\n",
       "      <td>54</td>\n",
       "      <td>0</td>\n",
       "      <td>4</td>\n",
       "      <td>127.0</td>\n",
       "      <td>333.0</td>\n",
       "      <td>1.0</td>\n",
       "      <td>1.0</td>\n",
       "      <td>154.0</td>\n",
       "      <td>0.0</td>\n",
       "      <td>1</td>\n",
       "    </tr>\n",
       "    <tr>\n",
       "      <th>912</th>\n",
       "      <td>62</td>\n",
       "      <td>1</td>\n",
       "      <td>1</td>\n",
       "      <td>130.0</td>\n",
       "      <td>139.0</td>\n",
       "      <td>0.0</td>\n",
       "      <td>1.0</td>\n",
       "      <td>140.0</td>\n",
       "      <td>0.0</td>\n",
       "      <td>0</td>\n",
       "    </tr>\n",
       "    <tr>\n",
       "      <th>913</th>\n",
       "      <td>55</td>\n",
       "      <td>1</td>\n",
       "      <td>4</td>\n",
       "      <td>122.0</td>\n",
       "      <td>223.0</td>\n",
       "      <td>1.0</td>\n",
       "      <td>1.0</td>\n",
       "      <td>100.0</td>\n",
       "      <td>0.0</td>\n",
       "      <td>2</td>\n",
       "    </tr>\n",
       "    <tr>\n",
       "      <th>914</th>\n",
       "      <td>58</td>\n",
       "      <td>1</td>\n",
       "      <td>4</td>\n",
       "      <td>130.0</td>\n",
       "      <td>385.0</td>\n",
       "      <td>1.0</td>\n",
       "      <td>2.0</td>\n",
       "      <td>140.0</td>\n",
       "      <td>0.0</td>\n",
       "      <td>0</td>\n",
       "    </tr>\n",
       "    <tr>\n",
       "      <th>915</th>\n",
       "      <td>62</td>\n",
       "      <td>1</td>\n",
       "      <td>2</td>\n",
       "      <td>120.0</td>\n",
       "      <td>254.0</td>\n",
       "      <td>0.0</td>\n",
       "      <td>2.0</td>\n",
       "      <td>93.0</td>\n",
       "      <td>1.0</td>\n",
       "      <td>1</td>\n",
       "    </tr>\n",
       "  </tbody>\n",
       "</table>\n",
       "<p>916 rows × 10 columns</p>\n",
       "</div>"
      ],
      "text/plain": [
       "     age  sex  cp  trestbps   chol  fbs  restecg  thalach  exang  num\n",
       "0     67    1   4     160.0  286.0  0.0      2.0    108.0    1.0    2\n",
       "1     67    1   4     120.0  229.0  0.0      2.0    129.0    1.0    1\n",
       "2     37    1   3     130.0  250.0  0.0      0.0    187.0    0.0    0\n",
       "3     41    0   2     130.0  204.0  0.0      2.0    172.0    0.0    0\n",
       "4     56    1   2     120.0  236.0  0.0      0.0    178.0    0.0    0\n",
       "..   ...  ...  ..       ...    ...  ...      ...      ...    ...  ...\n",
       "911   54    0   4     127.0  333.0  1.0      1.0    154.0    0.0    1\n",
       "912   62    1   1     130.0  139.0  0.0      1.0    140.0    0.0    0\n",
       "913   55    1   4     122.0  223.0  1.0      1.0    100.0    0.0    2\n",
       "914   58    1   4     130.0  385.0  1.0      2.0    140.0    0.0    0\n",
       "915   62    1   2     120.0  254.0  0.0      2.0     93.0    1.0    1\n",
       "\n",
       "[916 rows x 10 columns]"
      ]
     },
     "execution_count": 9,
     "metadata": {},
     "output_type": "execute_result"
    }
   ],
   "source": [
    "#View of data will all numerical variables\n",
    "data"
   ]
  },
  {
   "cell_type": "markdown",
   "id": "438115e6",
   "metadata": {
    "id": "fe46b22a"
   },
   "source": [
    "# 2.To Perform Imputation"
   ]
  },
  {
   "cell_type": "code",
   "execution_count": 13,
   "id": "db564429",
   "metadata": {
    "id": "85527edd",
    "outputId": "d9f5424f-7887-4e54-81c9-9c55d2f69050"
   },
   "outputs": [
    {
     "name": "stdout",
     "output_type": "stream",
     "text": [
      "knnimputer\n",
      "enter the no of neighbours3\n",
      "successful\n"
     ]
    }
   ],
   "source": [
    "#To ask the user wht type o imputaion is to be done and imputation is done accordingly\n",
    "while True:\n",
    "    imputation=str(input())\n",
    "    if(imputation==\"median\"):\n",
    "        try:\n",
    "            for i in cols:\n",
    "                if(data[i].isnull().sum().tolist()!=[0]):\n",
    "                    imp=data[i].median()\n",
    "                    data[i].fillna(imp)\n",
    "            print(\"successful\")        \n",
    "            break        \n",
    "        except:\n",
    "            print(\"Choose another imputaion\")\n",
    "            continue\n",
    "    elif(imputation==\"mode\"):\n",
    "        try:\n",
    "            for i in cols:\n",
    "                if(data[i].isnull().sum().tolist()!=[0]):\n",
    "                    imp=data[i].mode()\n",
    "                    data[i].fillna(imp)\n",
    "            print(\"successful\")           \n",
    "            break        \n",
    "        except:\n",
    "            print(\"choose another imputaion\")\n",
    "            continue\n",
    "    elif(imputation==\"mean\"):\n",
    "        try:\n",
    "            for i in cols:\n",
    "                if(data[i].isnull().sum().tolist()!=[0]):\n",
    "                    imp=data[i].mean()\n",
    "                    data[i].fillna(imp)\n",
    "            print(\"successful\")           \n",
    "            break        \n",
    "        except:\n",
    "            print(\"choose another imputaion\")\n",
    "            continue\n",
    "    elif(imputation==\"simpleimputer\") :\n",
    "        try:\n",
    "            while True:\n",
    "                strat=str(input(\"enter the strategy\"))\n",
    "                try:\n",
    "                    from sklearn.impute import SimpleImputer\n",
    "                    imp = SimpleImputer(missing_values=np.nan, strategy=strat)\n",
    "                    data=pd.DataFrame(imp.fit_transform(data))\n",
    "                    data.columns=cols\n",
    "                    print(\"successful\")   \n",
    "                    break\n",
    "                except:\n",
    "                    print(\"enter proper strategy\")\n",
    "                    continue\n",
    "            break        \n",
    "        except:\n",
    "            print(\"enter another imputation\")\n",
    "            continue\n",
    "    elif(imputation==\"knnimputer\") :\n",
    "        try:\n",
    "            while True:\n",
    "                neighbors=int(input(\"enter the no of neighbours\"))\n",
    "                try:\n",
    "                    from sklearn.impute import KNNImputer\n",
    "                    imp =KNNImputer(n_neighbors=neighbors)\n",
    "                    data=pd.DataFrame(imp.fit_transform(data))\n",
    "                    data.columns=cols\n",
    "                    print(\"successful\")   \n",
    "                    break\n",
    "                except:\n",
    "                    print(\"enter proper no of neighbours\")\n",
    "                    continue\n",
    "            break\n",
    "        except:\n",
    "            print(\"enter proper imputation\")\n",
    "            continue\n",
    "    else:\n",
    "        print(\"Enter proper imputation\")\n",
    "        pass\n",
    "            \n",
    "    \n",
    "        \n",
    "        \n",
    "            "
   ]
  },
  {
   "cell_type": "code",
   "execution_count": 14,
   "id": "a32e7b46",
   "metadata": {
    "id": "7ecd3493",
    "outputId": "03d00315-43eb-46dc-9e67-97ac8cf47f77"
   },
   "outputs": [
    {
     "data": {
      "text/html": [
       "<div>\n",
       "<style scoped>\n",
       "    .dataframe tbody tr th:only-of-type {\n",
       "        vertical-align: middle;\n",
       "    }\n",
       "\n",
       "    .dataframe tbody tr th {\n",
       "        vertical-align: top;\n",
       "    }\n",
       "\n",
       "    .dataframe thead th {\n",
       "        text-align: right;\n",
       "    }\n",
       "</style>\n",
       "<table border=\"1\" class=\"dataframe\">\n",
       "  <thead>\n",
       "    <tr style=\"text-align: right;\">\n",
       "      <th></th>\n",
       "      <th>age</th>\n",
       "      <th>sex</th>\n",
       "      <th>cp</th>\n",
       "      <th>trestbps</th>\n",
       "      <th>chol</th>\n",
       "      <th>fbs</th>\n",
       "      <th>restecg</th>\n",
       "      <th>thalach</th>\n",
       "      <th>exang</th>\n",
       "      <th>num</th>\n",
       "    </tr>\n",
       "  </thead>\n",
       "  <tbody>\n",
       "    <tr>\n",
       "      <th>0</th>\n",
       "      <td>67.0</td>\n",
       "      <td>1.0</td>\n",
       "      <td>4.0</td>\n",
       "      <td>160.0</td>\n",
       "      <td>286.0</td>\n",
       "      <td>0.0</td>\n",
       "      <td>2.0</td>\n",
       "      <td>108.0</td>\n",
       "      <td>1.0</td>\n",
       "      <td>2.0</td>\n",
       "    </tr>\n",
       "    <tr>\n",
       "      <th>1</th>\n",
       "      <td>67.0</td>\n",
       "      <td>1.0</td>\n",
       "      <td>4.0</td>\n",
       "      <td>120.0</td>\n",
       "      <td>229.0</td>\n",
       "      <td>0.0</td>\n",
       "      <td>2.0</td>\n",
       "      <td>129.0</td>\n",
       "      <td>1.0</td>\n",
       "      <td>1.0</td>\n",
       "    </tr>\n",
       "    <tr>\n",
       "      <th>2</th>\n",
       "      <td>37.0</td>\n",
       "      <td>1.0</td>\n",
       "      <td>3.0</td>\n",
       "      <td>130.0</td>\n",
       "      <td>250.0</td>\n",
       "      <td>0.0</td>\n",
       "      <td>0.0</td>\n",
       "      <td>187.0</td>\n",
       "      <td>0.0</td>\n",
       "      <td>0.0</td>\n",
       "    </tr>\n",
       "    <tr>\n",
       "      <th>3</th>\n",
       "      <td>41.0</td>\n",
       "      <td>0.0</td>\n",
       "      <td>2.0</td>\n",
       "      <td>130.0</td>\n",
       "      <td>204.0</td>\n",
       "      <td>0.0</td>\n",
       "      <td>2.0</td>\n",
       "      <td>172.0</td>\n",
       "      <td>0.0</td>\n",
       "      <td>0.0</td>\n",
       "    </tr>\n",
       "    <tr>\n",
       "      <th>4</th>\n",
       "      <td>56.0</td>\n",
       "      <td>1.0</td>\n",
       "      <td>2.0</td>\n",
       "      <td>120.0</td>\n",
       "      <td>236.0</td>\n",
       "      <td>0.0</td>\n",
       "      <td>0.0</td>\n",
       "      <td>178.0</td>\n",
       "      <td>0.0</td>\n",
       "      <td>0.0</td>\n",
       "    </tr>\n",
       "    <tr>\n",
       "      <th>...</th>\n",
       "      <td>...</td>\n",
       "      <td>...</td>\n",
       "      <td>...</td>\n",
       "      <td>...</td>\n",
       "      <td>...</td>\n",
       "      <td>...</td>\n",
       "      <td>...</td>\n",
       "      <td>...</td>\n",
       "      <td>...</td>\n",
       "      <td>...</td>\n",
       "    </tr>\n",
       "    <tr>\n",
       "      <th>911</th>\n",
       "      <td>54.0</td>\n",
       "      <td>0.0</td>\n",
       "      <td>4.0</td>\n",
       "      <td>127.0</td>\n",
       "      <td>333.0</td>\n",
       "      <td>1.0</td>\n",
       "      <td>1.0</td>\n",
       "      <td>154.0</td>\n",
       "      <td>0.0</td>\n",
       "      <td>1.0</td>\n",
       "    </tr>\n",
       "    <tr>\n",
       "      <th>912</th>\n",
       "      <td>62.0</td>\n",
       "      <td>1.0</td>\n",
       "      <td>1.0</td>\n",
       "      <td>130.0</td>\n",
       "      <td>139.0</td>\n",
       "      <td>0.0</td>\n",
       "      <td>1.0</td>\n",
       "      <td>140.0</td>\n",
       "      <td>0.0</td>\n",
       "      <td>0.0</td>\n",
       "    </tr>\n",
       "    <tr>\n",
       "      <th>913</th>\n",
       "      <td>55.0</td>\n",
       "      <td>1.0</td>\n",
       "      <td>4.0</td>\n",
       "      <td>122.0</td>\n",
       "      <td>223.0</td>\n",
       "      <td>1.0</td>\n",
       "      <td>1.0</td>\n",
       "      <td>100.0</td>\n",
       "      <td>0.0</td>\n",
       "      <td>2.0</td>\n",
       "    </tr>\n",
       "    <tr>\n",
       "      <th>914</th>\n",
       "      <td>58.0</td>\n",
       "      <td>1.0</td>\n",
       "      <td>4.0</td>\n",
       "      <td>130.0</td>\n",
       "      <td>385.0</td>\n",
       "      <td>1.0</td>\n",
       "      <td>2.0</td>\n",
       "      <td>140.0</td>\n",
       "      <td>0.0</td>\n",
       "      <td>0.0</td>\n",
       "    </tr>\n",
       "    <tr>\n",
       "      <th>915</th>\n",
       "      <td>62.0</td>\n",
       "      <td>1.0</td>\n",
       "      <td>2.0</td>\n",
       "      <td>120.0</td>\n",
       "      <td>254.0</td>\n",
       "      <td>0.0</td>\n",
       "      <td>2.0</td>\n",
       "      <td>93.0</td>\n",
       "      <td>1.0</td>\n",
       "      <td>1.0</td>\n",
       "    </tr>\n",
       "  </tbody>\n",
       "</table>\n",
       "<p>916 rows × 10 columns</p>\n",
       "</div>"
      ],
      "text/plain": [
       "      age  sex   cp  trestbps   chol  fbs  restecg  thalach  exang  num\n",
       "0    67.0  1.0  4.0     160.0  286.0  0.0      2.0    108.0    1.0  2.0\n",
       "1    67.0  1.0  4.0     120.0  229.0  0.0      2.0    129.0    1.0  1.0\n",
       "2    37.0  1.0  3.0     130.0  250.0  0.0      0.0    187.0    0.0  0.0\n",
       "3    41.0  0.0  2.0     130.0  204.0  0.0      2.0    172.0    0.0  0.0\n",
       "4    56.0  1.0  2.0     120.0  236.0  0.0      0.0    178.0    0.0  0.0\n",
       "..    ...  ...  ...       ...    ...  ...      ...      ...    ...  ...\n",
       "911  54.0  0.0  4.0     127.0  333.0  1.0      1.0    154.0    0.0  1.0\n",
       "912  62.0  1.0  1.0     130.0  139.0  0.0      1.0    140.0    0.0  0.0\n",
       "913  55.0  1.0  4.0     122.0  223.0  1.0      1.0    100.0    0.0  2.0\n",
       "914  58.0  1.0  4.0     130.0  385.0  1.0      2.0    140.0    0.0  0.0\n",
       "915  62.0  1.0  2.0     120.0  254.0  0.0      2.0     93.0    1.0  1.0\n",
       "\n",
       "[916 rows x 10 columns]"
      ]
     },
     "execution_count": 14,
     "metadata": {},
     "output_type": "execute_result"
    }
   ],
   "source": [
    "#To view data once imputation is done \n",
    "data"
   ]
  },
  {
   "cell_type": "markdown",
   "id": "928d38b2",
   "metadata": {
    "id": "643ddc70"
   },
   "source": [
    "# 3.Split dependent and independent variables form data"
   ]
  },
  {
   "cell_type": "code",
   "execution_count": 15,
   "id": "5ec151e8",
   "metadata": {
    "id": "a0c46c62",
    "outputId": "999a8605-e05f-4e62-b311-e0d704b41dd0"
   },
   "outputs": [
    {
     "name": "stdout",
     "output_type": "stream",
     "text": [
      "enter target column name auto\n"
     ]
    }
   ],
   "source": [
    "#To seperate independent and dependent elements of the data\n",
    "while True:\n",
    "    #By observing the data user gives column name of which is to be considered as target\n",
    "    target=str(input(\"enter target column name \"))\n",
    "    X=data.iloc[:,:]\n",
    "    if(target==\"auto\"):\n",
    "        X=data.iloc[:,:-1]\n",
    "        Y=data.iloc[:,-1]\n",
    "        target=cols[-1]\n",
    "        break\n",
    "    elif(target in cols):\n",
    "        X=X.drop([target],axis=1)\n",
    "        Y=data.iloc[:,cols.index(target)]\n",
    "        break\n",
    "    else:\n",
    "        print(\"enter the correct target variable\")\n",
    "        pass\n",
    "    "
   ]
  },
  {
   "cell_type": "code",
   "execution_count": 16,
   "id": "0c4322fe",
   "metadata": {
    "id": "34186718",
    "outputId": "99ae1538-27f0-40da-aa46-7e9db3a62658"
   },
   "outputs": [
    {
     "data": {
      "text/html": [
       "<div>\n",
       "<style scoped>\n",
       "    .dataframe tbody tr th:only-of-type {\n",
       "        vertical-align: middle;\n",
       "    }\n",
       "\n",
       "    .dataframe tbody tr th {\n",
       "        vertical-align: top;\n",
       "    }\n",
       "\n",
       "    .dataframe thead th {\n",
       "        text-align: right;\n",
       "    }\n",
       "</style>\n",
       "<table border=\"1\" class=\"dataframe\">\n",
       "  <thead>\n",
       "    <tr style=\"text-align: right;\">\n",
       "      <th></th>\n",
       "      <th>age</th>\n",
       "      <th>sex</th>\n",
       "      <th>cp</th>\n",
       "      <th>trestbps</th>\n",
       "      <th>chol</th>\n",
       "      <th>fbs</th>\n",
       "      <th>restecg</th>\n",
       "      <th>thalach</th>\n",
       "      <th>exang</th>\n",
       "    </tr>\n",
       "  </thead>\n",
       "  <tbody>\n",
       "    <tr>\n",
       "      <th>0</th>\n",
       "      <td>67.0</td>\n",
       "      <td>1.0</td>\n",
       "      <td>4.0</td>\n",
       "      <td>160.0</td>\n",
       "      <td>286.0</td>\n",
       "      <td>0.0</td>\n",
       "      <td>2.0</td>\n",
       "      <td>108.0</td>\n",
       "      <td>1.0</td>\n",
       "    </tr>\n",
       "    <tr>\n",
       "      <th>1</th>\n",
       "      <td>67.0</td>\n",
       "      <td>1.0</td>\n",
       "      <td>4.0</td>\n",
       "      <td>120.0</td>\n",
       "      <td>229.0</td>\n",
       "      <td>0.0</td>\n",
       "      <td>2.0</td>\n",
       "      <td>129.0</td>\n",
       "      <td>1.0</td>\n",
       "    </tr>\n",
       "    <tr>\n",
       "      <th>2</th>\n",
       "      <td>37.0</td>\n",
       "      <td>1.0</td>\n",
       "      <td>3.0</td>\n",
       "      <td>130.0</td>\n",
       "      <td>250.0</td>\n",
       "      <td>0.0</td>\n",
       "      <td>0.0</td>\n",
       "      <td>187.0</td>\n",
       "      <td>0.0</td>\n",
       "    </tr>\n",
       "    <tr>\n",
       "      <th>3</th>\n",
       "      <td>41.0</td>\n",
       "      <td>0.0</td>\n",
       "      <td>2.0</td>\n",
       "      <td>130.0</td>\n",
       "      <td>204.0</td>\n",
       "      <td>0.0</td>\n",
       "      <td>2.0</td>\n",
       "      <td>172.0</td>\n",
       "      <td>0.0</td>\n",
       "    </tr>\n",
       "    <tr>\n",
       "      <th>4</th>\n",
       "      <td>56.0</td>\n",
       "      <td>1.0</td>\n",
       "      <td>2.0</td>\n",
       "      <td>120.0</td>\n",
       "      <td>236.0</td>\n",
       "      <td>0.0</td>\n",
       "      <td>0.0</td>\n",
       "      <td>178.0</td>\n",
       "      <td>0.0</td>\n",
       "    </tr>\n",
       "    <tr>\n",
       "      <th>...</th>\n",
       "      <td>...</td>\n",
       "      <td>...</td>\n",
       "      <td>...</td>\n",
       "      <td>...</td>\n",
       "      <td>...</td>\n",
       "      <td>...</td>\n",
       "      <td>...</td>\n",
       "      <td>...</td>\n",
       "      <td>...</td>\n",
       "    </tr>\n",
       "    <tr>\n",
       "      <th>911</th>\n",
       "      <td>54.0</td>\n",
       "      <td>0.0</td>\n",
       "      <td>4.0</td>\n",
       "      <td>127.0</td>\n",
       "      <td>333.0</td>\n",
       "      <td>1.0</td>\n",
       "      <td>1.0</td>\n",
       "      <td>154.0</td>\n",
       "      <td>0.0</td>\n",
       "    </tr>\n",
       "    <tr>\n",
       "      <th>912</th>\n",
       "      <td>62.0</td>\n",
       "      <td>1.0</td>\n",
       "      <td>1.0</td>\n",
       "      <td>130.0</td>\n",
       "      <td>139.0</td>\n",
       "      <td>0.0</td>\n",
       "      <td>1.0</td>\n",
       "      <td>140.0</td>\n",
       "      <td>0.0</td>\n",
       "    </tr>\n",
       "    <tr>\n",
       "      <th>913</th>\n",
       "      <td>55.0</td>\n",
       "      <td>1.0</td>\n",
       "      <td>4.0</td>\n",
       "      <td>122.0</td>\n",
       "      <td>223.0</td>\n",
       "      <td>1.0</td>\n",
       "      <td>1.0</td>\n",
       "      <td>100.0</td>\n",
       "      <td>0.0</td>\n",
       "    </tr>\n",
       "    <tr>\n",
       "      <th>914</th>\n",
       "      <td>58.0</td>\n",
       "      <td>1.0</td>\n",
       "      <td>4.0</td>\n",
       "      <td>130.0</td>\n",
       "      <td>385.0</td>\n",
       "      <td>1.0</td>\n",
       "      <td>2.0</td>\n",
       "      <td>140.0</td>\n",
       "      <td>0.0</td>\n",
       "    </tr>\n",
       "    <tr>\n",
       "      <th>915</th>\n",
       "      <td>62.0</td>\n",
       "      <td>1.0</td>\n",
       "      <td>2.0</td>\n",
       "      <td>120.0</td>\n",
       "      <td>254.0</td>\n",
       "      <td>0.0</td>\n",
       "      <td>2.0</td>\n",
       "      <td>93.0</td>\n",
       "      <td>1.0</td>\n",
       "    </tr>\n",
       "  </tbody>\n",
       "</table>\n",
       "<p>916 rows × 9 columns</p>\n",
       "</div>"
      ],
      "text/plain": [
       "      age  sex   cp  trestbps   chol  fbs  restecg  thalach  exang\n",
       "0    67.0  1.0  4.0     160.0  286.0  0.0      2.0    108.0    1.0\n",
       "1    67.0  1.0  4.0     120.0  229.0  0.0      2.0    129.0    1.0\n",
       "2    37.0  1.0  3.0     130.0  250.0  0.0      0.0    187.0    0.0\n",
       "3    41.0  0.0  2.0     130.0  204.0  0.0      2.0    172.0    0.0\n",
       "4    56.0  1.0  2.0     120.0  236.0  0.0      0.0    178.0    0.0\n",
       "..    ...  ...  ...       ...    ...  ...      ...      ...    ...\n",
       "911  54.0  0.0  4.0     127.0  333.0  1.0      1.0    154.0    0.0\n",
       "912  62.0  1.0  1.0     130.0  139.0  0.0      1.0    140.0    0.0\n",
       "913  55.0  1.0  4.0     122.0  223.0  1.0      1.0    100.0    0.0\n",
       "914  58.0  1.0  4.0     130.0  385.0  1.0      2.0    140.0    0.0\n",
       "915  62.0  1.0  2.0     120.0  254.0  0.0      2.0     93.0    1.0\n",
       "\n",
       "[916 rows x 9 columns]"
      ]
     },
     "execution_count": 16,
     "metadata": {},
     "output_type": "execute_result"
    }
   ],
   "source": [
    "#independent variables\n",
    "X"
   ]
  },
  {
   "cell_type": "code",
   "execution_count": 17,
   "id": "f72d630e",
   "metadata": {
    "id": "1461ed67",
    "outputId": "ac8d56c4-192f-4ac5-ddd5-c8abc74ba373"
   },
   "outputs": [
    {
     "data": {
      "text/plain": [
       "0      2.0\n",
       "1      1.0\n",
       "2      0.0\n",
       "3      0.0\n",
       "4      0.0\n",
       "      ... \n",
       "911    1.0\n",
       "912    0.0\n",
       "913    2.0\n",
       "914    0.0\n",
       "915    1.0\n",
       "Name: num, Length: 916, dtype: float64"
      ]
     },
     "execution_count": 17,
     "metadata": {},
     "output_type": "execute_result"
    }
   ],
   "source": [
    "#dependent variables\n",
    "Y"
   ]
  },
  {
   "cell_type": "markdown",
   "id": "8e61d70d",
   "metadata": {
    "id": "e281b8dc"
   },
   "source": [
    "# 4.To select columns with significant correlation "
   ]
  },
  {
   "cell_type": "code",
   "execution_count": 20,
   "id": "bc3c6314",
   "metadata": {
    "id": "1ca2f144",
    "outputId": "b7f4f4c1-367b-4964-b259-0a97cd7baccf"
   },
   "outputs": [
    {
     "name": "stdout",
     "output_type": "stream",
     "text": [
      "Enter the minimum corelation to be considered0.01\n",
      "      age  sex   cp  trestbps   chol  fbs  restecg  thalach  exang  num\n",
      "0    67.0  1.0  4.0     160.0  286.0  0.0      2.0    108.0    1.0  2.0\n",
      "1    67.0  1.0  4.0     120.0  229.0  0.0      2.0    129.0    1.0  1.0\n",
      "2    37.0  1.0  3.0     130.0  250.0  0.0      0.0    187.0    0.0  0.0\n",
      "3    41.0  0.0  2.0     130.0  204.0  0.0      2.0    172.0    0.0  0.0\n",
      "4    56.0  1.0  2.0     120.0  236.0  0.0      0.0    178.0    0.0  0.0\n",
      "..    ...  ...  ...       ...    ...  ...      ...      ...    ...  ...\n",
      "911  54.0  0.0  4.0     127.0  333.0  1.0      1.0    154.0    0.0  1.0\n",
      "912  62.0  1.0  1.0     130.0  139.0  0.0      1.0    140.0    0.0  0.0\n",
      "913  55.0  1.0  4.0     122.0  223.0  1.0      1.0    100.0    0.0  2.0\n",
      "914  58.0  1.0  4.0     130.0  385.0  1.0      2.0    140.0    0.0  0.0\n",
      "915  62.0  1.0  2.0     120.0  254.0  0.0      2.0     93.0    1.0  1.0\n",
      "\n",
      "[916 rows x 10 columns]\n"
     ]
    }
   ],
   "source": [
    "#To find out corelation of each column on the output\n",
    "\n",
    "Corelationlist=data.corr()[target].abs().tolist()\n",
    "data.corr()[target].abs().sort_values(ascending=False)\n",
    "\n",
    "#To selecet elements with co-relation value greater that the specifie values\n",
    "Corr_Threshold=float(input(\"Enter the minimum corelation to be considered\"))\n",
    "\n",
    "for i in range(len(Corelationlist)):\n",
    "    if(Corelationlist[i]<Corr_Threshold):\n",
    "        print(cols[i],\"Removed\")\n",
    "        data.drop(cols[i],axis='columns', inplace=True)\n",
    "print(data)"
   ]
  },
  {
   "cell_type": "markdown",
   "id": "344c945b",
   "metadata": {
    "id": "4da4692d"
   },
   "source": [
    "# 5.Splitting Data into Training and testing sets"
   ]
  },
  {
   "cell_type": "code",
   "execution_count": 22,
   "id": "c3578a2c",
   "metadata": {
    "id": "271fe764"
   },
   "outputs": [
    {
     "name": "stdout",
     "output_type": "stream",
     "text": [
      "Enter the size of test data0.7\n"
     ]
    }
   ],
   "source": [
    "#splitting into training an dtesting data\n",
    "Test_size=float(input(\"Enter the size of test data\"))\n",
    "from sklearn.model_selection import train_test_split\n",
    "X_train,X_test, Y_train, Y_test = train_test_split(X, Y, test_size =Test_size, random_state = 0)"
   ]
  },
  {
   "cell_type": "markdown",
   "id": "9e13bb66",
   "metadata": {
    "id": "5f68473e"
   },
   "source": [
    "# 6.Scaling the independent variables"
   ]
  },
  {
   "cell_type": "code",
   "execution_count": 23,
   "id": "da1b93ee",
   "metadata": {
    "id": "e2183696"
   },
   "outputs": [],
   "source": [
    "#Scaling the data to a smaller value range using standard scaler\n",
    "from sklearn.preprocessing import StandardScaler\n",
    "sc=StandardScaler()\n",
    "X_train = sc.fit_transform(X_train) \n",
    "X_test = sc.transform(X_test)"
   ]
  },
  {
   "cell_type": "markdown",
   "id": "7baaf67a",
   "metadata": {
    "id": "e18a5f89"
   },
   "source": [
    "# FUNCTIONS TO CHECK DIFFERENT METRICS OF EVALUATION"
   ]
  },
  {
   "cell_type": "code",
   "execution_count": 25,
   "id": "21100bcb",
   "metadata": {
    "id": "b54278b9"
   },
   "outputs": [],
   "source": [
    "def acc(pred):\n",
    "    from sklearn.metrics import accuracy_score\n",
    "    acc=accuracy_score(pred,Y_test)\n",
    "    return acc*100"
   ]
  },
  {
   "cell_type": "markdown",
   "id": "bcbb6491",
   "metadata": {
    "id": "e99b8770"
   },
   "source": [
    "# IMPLEMENTING DIFFERENT ML ALGORITHMS"
   ]
  },
  {
   "cell_type": "code",
   "execution_count": 27,
   "id": "b1ad0a09",
   "metadata": {
    "id": "485cc909",
    "outputId": "8dcb18f8-fef4-4033-9501-bbd8afff0601"
   },
   "outputs": [
    {
     "name": "stdout",
     "output_type": "stream",
     "text": [
      "logistic regression accuracy= 54.361370716510905\n",
      "KNN accuracy= 51.71339563862928\n",
      "DT accuracy= 46.41744548286604\n",
      "SVM accuracy= 53.58255451713395\n",
      "GNB accuracy= 35.51401869158878\n",
      "RFC accuracy= 55.45171339563863\n",
      "GBC accuracy= 49.68847352024922\n",
      "ABC accuracy= 32.55451713395638\n"
     ]
    },
    {
     "name": "stderr",
     "output_type": "stream",
     "text": [
      "c:\\users\\nithin m\\appdata\\local\\programs\\python\\python39\\lib\\site-packages\\sklearn\\neural_network\\_multilayer_perceptron.py:549: ConvergenceWarning: lbfgs failed to converge (status=1):\n",
      "STOP: TOTAL NO. of ITERATIONS REACHED LIMIT.\n",
      "\n",
      "Increase the number of iterations (max_iter) or scale the data as shown in:\n",
      "    https://scikit-learn.org/stable/modules/preprocessing.html\n",
      "  self.n_iter_ = _check_optimize_result(\"lbfgs\", opt_res, self.max_iter)\n"
     ]
    },
    {
     "name": "stdout",
     "output_type": "stream",
     "text": [
      "MLP accuracy= 53.58255451713395\n"
     ]
    },
    {
     "name": "stderr",
     "output_type": "stream",
     "text": [
      "c:\\users\\nithin m\\appdata\\local\\programs\\python\\python39\\lib\\site-packages\\sklearn\\neural_network\\_multilayer_perceptron.py:549: ConvergenceWarning: lbfgs failed to converge (status=1):\n",
      "STOP: TOTAL NO. of ITERATIONS REACHED LIMIT.\n",
      "\n",
      "Increase the number of iterations (max_iter) or scale the data as shown in:\n",
      "    https://scikit-learn.org/stable/modules/preprocessing.html\n",
      "  self.n_iter_ = _check_optimize_result(\"lbfgs\", opt_res, self.max_iter)\n"
     ]
    },
    {
     "name": "stdout",
     "output_type": "stream",
     "text": [
      "VCH accuracy= 54.67289719626168\n"
     ]
    },
    {
     "name": "stderr",
     "output_type": "stream",
     "text": [
      "c:\\users\\nithin m\\appdata\\local\\programs\\python\\python39\\lib\\site-packages\\sklearn\\neural_network\\_multilayer_perceptron.py:549: ConvergenceWarning: lbfgs failed to converge (status=1):\n",
      "STOP: TOTAL NO. of ITERATIONS REACHED LIMIT.\n",
      "\n",
      "Increase the number of iterations (max_iter) or scale the data as shown in:\n",
      "    https://scikit-learn.org/stable/modules/preprocessing.html\n",
      "  self.n_iter_ = _check_optimize_result(\"lbfgs\", opt_res, self.max_iter)\n"
     ]
    },
    {
     "name": "stdout",
     "output_type": "stream",
     "text": [
      "VCS accuracy= 53.11526479750779\n",
      "[10:37:39] WARNING: C:/Users/Administrator/workspace/xgboost-win64_release_1.5.1/src/objective/regression_obj.cu:188: reg:linear is now deprecated in favor of reg:squarederror.\n",
      "XGBA accuracy= 6.895176591119911\n"
     ]
    }
   ],
   "source": [
    "#importing linear regression\n",
    "from sklearn.linear_model import LogisticRegression\n",
    "LR = LogisticRegression()\n",
    "LR.fit(X_train,Y_train)\n",
    "pred=LR.predict(X_test)\n",
    "LRA=acc(pred)\n",
    "print(\"logistic regression accuracy=\",acc(pred))\n",
    "\n",
    "\n",
    "from sklearn.neighbors import KNeighborsClassifier\n",
    "KNN= KNeighborsClassifier(n_neighbors=3)\n",
    "KNN.fit(X_train,Y_train)\n",
    "pred=KNN.predict(X_test) \n",
    "KNNA=acc(pred)\n",
    "print(\"KNN accuracy=\",acc(pred))\n",
    "\n",
    "\n",
    "from sklearn.tree import DecisionTreeClassifier\n",
    "DT = DecisionTreeClassifier(random_state=0)\n",
    "DT.fit(X_train,Y_train)\n",
    "pred=DT.predict(X_test)\n",
    "DTA=acc(pred)\n",
    "print(\"DT accuracy=\",acc(pred))\n",
    "\n",
    "\n",
    "from sklearn import svm\n",
    "SVM=svm.SVC(probability=True)\n",
    "SVM.fit(X_train,Y_train)\n",
    "pred=SVM.predict(X_test)\n",
    "SVMA=acc(pred)\n",
    "print(\"SVM accuracy=\",acc(pred))\n",
    "\n",
    "\n",
    "from sklearn.naive_bayes import GaussianNB\n",
    "GNB= GaussianNB()\n",
    "pred= GNB.fit(X_train, Y_train).predict(X_test)\n",
    "GNBA=acc(pred)\n",
    "print(\"GNB accuracy=\",acc(pred))\n",
    "\n",
    "\n",
    "from sklearn.ensemble import RandomForestClassifier\n",
    "RFC= RandomForestClassifier(max_depth=2, random_state=0)\n",
    "pred= RFC.fit(X_train, Y_train).predict(X_test)\n",
    "RFCA=acc(pred)\n",
    "print(\"RFC accuracy=\",acc(pred))\n",
    "\n",
    "\n",
    "from sklearn.ensemble import GradientBoostingClassifier\n",
    "GBC= GradientBoostingClassifier(n_estimators=100, learning_rate=1.0,max_depth=1, random_state=0)\n",
    "pred= GBC.fit(X_train, Y_train).predict(X_test)\n",
    "GBCA=acc(pred)\n",
    "print(\"GBC accuracy=\",acc(pred))\n",
    "\n",
    "\n",
    "from sklearn.ensemble import AdaBoostClassifier\n",
    "ABC= AdaBoostClassifier(n_estimators=100, random_state=0)\n",
    "pred= ABC.fit(X_train, Y_train).predict(X_test)\n",
    "ABCA=acc(pred)\n",
    "print(\"ABC accuracy=\",acc(pred))\n",
    "\n",
    "\n",
    "from sklearn.neural_network import MLPClassifier\n",
    "MLP= MLPClassifier(solver='lbfgs', alpha=1e-5,hidden_layer_sizes=(5, 2), random_state=1)\n",
    "pred= MLP.fit(X_train, Y_train).predict(X_test)\n",
    "MLPA=acc(pred)\n",
    "print(\"MLP accuracy=\",acc(pred))\n",
    "\n",
    "\n",
    "# hard voting classifier\n",
    "from sklearn.ensemble import VotingClassifier\n",
    "VCH= VotingClassifier(estimators=[('10',LR),('11',KNN),('12',DT),('13',SVM),('14',GNB),('15',RFC),('16',GBC),('17',ABC),('18',MLP)], voting='hard')\n",
    "pred= VCH.fit(X_train, Y_train).predict(X_test)\n",
    "VCHA=acc(pred)\n",
    "print(\"VCH accuracy=\",acc(pred))\n",
    "\n",
    "\n",
    "# soft voting classifier\n",
    "from sklearn.ensemble import VotingClassifier\n",
    "VCS= VotingClassifier(estimators=[('1',LR),('2',KNN),('3',DT),('4',SVM),('5',GNB),('6',RFC),('7',GBC),('8',ABC),('9',MLP)], voting='soft')\n",
    "pred= VCS.fit(X_train, Y_train).predict(X_test)\n",
    "VCSA=acc(pred)\n",
    "print(\"VCS accuracy=\",acc(pred))\n",
    "\n",
    "\n",
    "#xgboost algorithm\n",
    "import xgboost as xgb\n",
    "from sklearn.metrics import r2_score\n",
    "XGB = xgb.XGBRegressor(objective ='reg:linear', colsample_bytree = 0.3, learning_rate = 0.1,\n",
    "                max_depth = 5, alpha = 10, n_estimators = 10)\n",
    "pred= XGB.fit(X_train, Y_train).predict(X_test)\n",
    "XGBA=r2_score(Y_test,pred)*100\n",
    "print(\"XGBA accuracy=\",XGBA)\n",
    "#Grid search cv algorithm\n",
    "#To be written after discussion\n",
    "\n",
    "\n",
    "\n"
   ]
  },
  {
   "cell_type": "markdown",
   "id": "00f50945",
   "metadata": {
    "id": "448874fe"
   },
   "source": [
    "# Finding the One with Best Accuracy"
   ]
  },
  {
   "cell_type": "code",
   "execution_count": 28,
   "id": "4f5a07de",
   "metadata": {
    "id": "2c4ccf0a",
    "outputId": "fdde72de-598e-485c-a117-7b46e0f186e3"
   },
   "outputs": [
    {
     "name": "stdout",
     "output_type": "stream",
     "text": [
      "RFC \n",
      "with acc = 55.45171339563863 %\n"
     ]
    }
   ],
   "source": [
    "Accuracies=[LRA,KNNA,DTA,SVMA,GNBA,RFCA,GBCA,ABCA,MLPA,VCHA,VCSA,XGBA]\n",
    "Accuracy_labels=['LR','KNN','DT','SVM','GNB','RFC','GBC','ABC','MLP','VCH','VCS','XGB']\n",
    "Models=[LR,KNN,DT,SVM,GNB,RFC,GBC,ABC,MLP,VCH,VCS,XGB]\n",
    "Max_accuracy=Accuracy_labels[Accuracies.index(max(Accuracies))]\n",
    "Model=Models[Accuracies.index(max(Accuracies))]\n",
    "print(Max_accuracy,\"\\nwith acc =\",max(Accuracies),'%')"
   ]
  },
  {
   "cell_type": "markdown",
   "id": "a654c240",
   "metadata": {
    "id": "9d38bd0a"
   },
   "source": [
    "# IMPLEMENTING ANN ALGORITHMS BASED ON USERS HYPER PARAMETERS"
   ]
  },
  {
   "cell_type": "markdown",
   "id": "d2f144ca",
   "metadata": {
    "id": "a88ad6fe"
   },
   "source": [
    "# 1.simple Ann"
   ]
  },
  {
   "cell_type": "code",
   "execution_count": 29,
   "id": "9660508b",
   "metadata": {
    "id": "369a4cea"
   },
   "outputs": [],
   "source": [
    "import keras\n",
    "from keras.models import Sequential\n",
    "from keras.layers import Dense\n",
    "from keras.layers import LeakyReLU\n",
    "from keras.layers import Dropout\n"
   ]
  },
  {
   "cell_type": "code",
   "execution_count": 32,
   "id": "8e3c51be",
   "metadata": {
    "id": "46b901c6",
    "outputId": "40485d9c-397a-4e2a-d8ca-31686f9ef0b8"
   },
   "outputs": [
    {
     "name": "stdout",
     "output_type": "stream",
     "text": [
      "Enter the number of layers3\n",
      "layer 1\n",
      "enter the no of units10\n",
      "enter the weight initialization functionhe_uniform\n",
      "enter the activation functionrelu\n",
      "\n",
      "\n",
      "layer 2\n",
      "enter the no of units10\n",
      "enter the weight initialization functionhe_uniform\n",
      "enter the activation functionrelu\n",
      "\n",
      "\n",
      "layer 3\n",
      "enter the no of units9\n",
      "enter the weight initialization functionhe_uniform\n",
      "enter the activation functionrelu\n",
      "\n",
      "\n",
      "ANN GENERATED\n"
     ]
    }
   ],
   "source": [
    "Ann=Sequential()\n",
    "#No of layers\n",
    "n=int(input(\"Enter the number of layers\"))\n",
    "for i in range(n):\n",
    "    print(\"layer\",i+1)    \n",
    "    #no of units in each layer\n",
    "    u=int(input(\"enter the no of units\"))\n",
    "    #kernel initializer\n",
    "    init=str(input(\"enter the weight initialization function\"))\n",
    "    #activation function\n",
    "    act=str(input(\"enter the activation function\"))\n",
    "    if(i==0):\n",
    "        dim=len(X.columns.tolist())\n",
    "        Ann.add(Dense(units=u,kernel_initializer=init,activation=act,input_dim=dim))\n",
    "    else:\n",
    "        Ann.add(Dense(units=u,kernel_initializer=init,activation=act))\n",
    "    print(\"\\n\")    \n",
    "    \n",
    "print(\"ANN GENERATED\")        "
   ]
  },
  {
   "cell_type": "code",
   "execution_count": 39,
   "id": "2c2159f6",
   "metadata": {
    "id": "01f3b235",
    "outputId": "1ea787a8-5b85-435f-e926-095e73261f41"
   },
   "outputs": [
    {
     "name": "stdout",
     "output_type": "stream",
     "text": [
      "enter the optimzeradam\n",
      "enter the cost fuction to be usedbinary_crossentropy\n",
      "enter the metric of valuatonaccuracy\n",
      "ANN COMPILED\n"
     ]
    }
   ],
   "source": [
    "opt=str(input(\"enter the optimzer\"))\n",
    "los=str(input(\"enter the cost fuction to be used\"))\n",
    "met=str(input(\"enter the metric of valuaton\"))\n",
    "Ann.compile(optimizer=opt,loss=los,metrics=[met])\n",
    "print(\"ANN COMPILED\")"
   ]
  },
  {
   "cell_type": "code",
   "execution_count": null,
   "id": "da13bd1a",
   "metadata": {
    "id": "5192e0a2",
    "outputId": "a6ef75c6-87ae-4054-fb5c-26a99b408e55"
   },
   "outputs": [
    {
     "name": "stdout",
     "output_type": "stream",
     "text": [
      "enter no of epochs100\n",
      "enter the batch size20\n"
     ]
    }
   ],
   "source": [
    "ep=int(input(\"enter no of epochs\"))\n",
    "bs=int(input(\"enter the batch size\"))\n",
    "split=int(input(\"enter the % of data for valdation\"))\n",
    "model_history=Ann.fit(X_train, Y_train,epochs=ep,batch_size=bs,validation_split=(split/100))"
   ]
  },
  {
   "cell_type": "code",
   "execution_count": null,
   "id": "1fbd2578",
   "metadata": {
    "id": "d77b868a",
    "outputId": "e5ecb2aa-15f8-4662-b1e6-bffdeee92e04"
   },
   "outputs": [],
   "source": [
    "pred=Ann.predict(X_test)\n",
    "pred=(pred>0.5)\n",
    "AnnA=acc(pred)\n",
    "print(\"Ann accuracy=\",acc(pred))"
   ]
  },
  {
   "cell_type": "markdown",
   "id": "4fe078b3",
   "metadata": {
    "id": "80c41f65"
   },
   "source": [
    "# 2.Keras Tuner \n"
   ]
  },
  {
   "cell_type": "code",
   "execution_count": null,
   "id": "ff0cbc50",
   "metadata": {
    "id": "2384b5c3",
    "outputId": "a512cd85-a9bb-4e9d-edde-54a65c73ab35"
   },
   "outputs": [],
   "source": [
    "#Give the list of units t be considered\n",
    "n=int(input(\"enter the no of values to be selected as units\"))\n",
    "l=[]\n",
    "for i in range(n):\n",
    "    l.append(int(input(\"enter the number\")))"
   ]
  },
  {
   "cell_type": "code",
   "execution_count": null,
   "id": "fede58f8",
   "metadata": {
    "id": "06ed0097",
    "outputId": "0cc992db-7101-40f1-85f8-81f8d484446d"
   },
   "outputs": [],
   "source": [
    "#usig the keras tuner\n",
    "import keras_tuner as kt\n",
    "from tensorflow import keras\n",
    "def build_model(hp):\n",
    "  model = keras.Sequential()\n",
    "  model.add(keras.layers.Dense(\n",
    "      hp.Choice('units',l),\n",
    "      activation='relu'))\n",
    "  model.add(keras.layers.Dense(1, activation='relu'))\n",
    "  model.compile(loss='mse')\n",
    "  return model\n",
    "\n",
    "tuner = kt.RandomSearch(\n",
    "    build_model,\n",
    "    objective='val_loss',\n",
    "    max_trials=5)\n",
    "tuner.search(X_train, Y_train, epochs=5, validation_data=(X_test, Y_test))\n",
    "Ktann = tuner.get_best_models()[0]"
   ]
  },
  {
   "cell_type": "code",
   "execution_count": null,
   "id": "410b6c9c",
   "metadata": {
    "id": "6f2ab106",
    "outputId": "10345c64-8da4-4d96-f160-1197080f9a03"
   },
   "outputs": [],
   "source": [
    "pred=Ktann.predict(X_test)\n",
    "pred=(pred>0.5)\n",
    "KtannA=acc(pred)\n",
    "print(\"Ktann accuracy=\",acc(pred))\n"
   ]
  },
  {
   "cell_type": "markdown",
   "id": "9c9d6737",
   "metadata": {
    "id": "20df0f03"
   },
   "source": [
    "# TO CREATE PLOTS BASED ON USER INPUT"
   ]
  },
  {
   "cell_type": "code",
   "execution_count": null,
   "id": "366bab8a",
   "metadata": {
    "id": "aea858c2"
   },
   "outputs": [],
   "source": [
    "#Import vizualization Libraries\n",
    "import matplotlib.pyplot as plt\n",
    "import seaborn as sns"
   ]
  },
  {
   "cell_type": "code",
   "execution_count": null,
   "id": "0ab0604d",
   "metadata": {
    "id": "df8f4ac2",
    "outputId": "f8d9c8f8-ba05-47f8-b9c4-1b959a2920dd"
   },
   "outputs": [],
   "source": [
    "while True:\n",
    "    Type_of_plot=str(input())\n",
    "    if(Type_of_plot==\"pairplot\"):\n",
    "        sns.set(style=\"ticks\", color_codes=True)\n",
    "        sns.pairplot(data)\n",
    "        plt.show()\n",
    "        break\n",
    "    elif(Type_of_plot==\"co_relation heat map\"):\n",
    "        heatmap = sns.heatmap(data.corr(), vmin=-1, vmax=1, annot=True, cmap='BrBG')\n",
    "        heatmap.set_title('Correlation Heatmap', fontdict={'fontsize':10}, pad=12)\n",
    "        plt.show()\n",
    "        break\n",
    "    elif(Type_of_plot==\"co_relation bar graph\"):\n",
    "        barcols=X.columns.tolist()\n",
    "        barcorr=data.corr()\n",
    "        barcorr=barcorr[target].values.tolist()\n",
    "        for i in range(len(barcorr)):\n",
    "            barcorr[i]=abs(barcorr[i])\n",
    "        plt.bar(barcols,barcorr[:-1])\n",
    "        plt.title('Bargraph of correlation with '+target)\n",
    "        plt.xlabel('Attribute')\n",
    "        plt.show()\n",
    "        break\n",
    "    elif(Type_of_plot==\"custom\"):\n",
    "        while True:\n",
    "            x_axis_col=str(input(\"enter the column name to be compared to target\"))\n",
    "            if(x_axis_col in X.columns.tolist()):\n",
    "                x_axis=X[x_axis_col]\n",
    "                y_axis=Y\n",
    "                plt.bar(x_axis,y_axis)\n",
    "                plt.grid(True)\n",
    "                plt.title(target.upper()+\"  vs  \"+x_axis_col.upper(), fontsize=14)\n",
    "                plt.xlabel(x_axis_col.upper(), fontsize=14)\n",
    "                plt.ylabel(target.upper(), fontsize=14)\n",
    "                plt.show()\n",
    "                break\n",
    "            else:\n",
    "                print(\"Enter a valid column name\")\n",
    "                pass\n",
    "        break   \n",
    "            \n",
    "    else:\n",
    "        print(\"enter correct plot\")\n",
    "        pass\n",
    "        \n",
    "    \n",
    "    \n",
    "   \n",
    "    "
   ]
  },
  {
   "cell_type": "code",
   "execution_count": null,
   "id": "27d06dbb",
   "metadata": {
    "id": "f777af2d"
   },
   "outputs": [],
   "source": []
  }
 ],
 "metadata": {
  "colab": {
   "collapsed_sections": [
    "5f68473e",
    "e18a5f89",
    "e99b8770",
    "448874fe",
    "9d38bd0a",
    "a88ad6fe",
    "80c41f65",
    "20df0f03"
   ],
   "name": "Untitled1.ipynb",
   "provenance": []
  },
  "kernelspec": {
   "display_name": "Python 3 (ipykernel)",
   "language": "python",
   "name": "python3"
  },
  "language_info": {
   "codemirror_mode": {
    "name": "ipython",
    "version": 3
   },
   "file_extension": ".py",
   "mimetype": "text/x-python",
   "name": "python",
   "nbconvert_exporter": "python",
   "pygments_lexer": "ipython3",
   "version": "3.10.4"
  }
 },
 "nbformat": 4,
 "nbformat_minor": 5
}
